{
  "cells": [
    {
      "cell_type": "markdown",
      "metadata": {
        "id": "view-in-github",
        "colab_type": "text"
      },
      "source": [
        "<a href=\"https://colab.research.google.com/github/Snguyennn/Sophielise/blob/main/homework2.ipynb\" target=\"_parent\"><img src=\"https://colab.research.google.com/assets/colab-badge.svg\" alt=\"Open In Colab\"/></a>"
      ]
    },
    {
      "cell_type": "markdown",
      "metadata": {
        "id": "2Tc6KzI4P0To"
      },
      "source": [
        "# DX 602 Week 2 Homework\n",
        "\n"
      ]
    },
    {
      "cell_type": "markdown",
      "metadata": {
        "id": "k2wKrIcJIfd5"
      },
      "source": [
        "## Introduction\n",
        "\n",
        "Practice is a large part of becoming fluent in a programming language.\n",
        "In this module, you will be assigned regular coding homework to practice Python.\n",
        "If these problems seem too easy to you, try to answer them faster, and make sure to check the auto-grader feedback to confirm the correctness of your answers.\n",
        "Like with spoken languages, fluency (speed) is highly correlated with proficiency.\n",
        "But it is important to answer the problems correctly first, then quickly.\n"
      ]
    },
    {
      "cell_type": "markdown",
      "metadata": {
        "id": "HURgoU0vIiRa"
      },
      "source": [
        "### Submission\n",
        "\n",
        "To submit your homework, take the following steps.\n",
        "\n",
        "1. Save and commit this notebook.\n",
        "2. Push your changes to GitHub.\n",
        "3. Confirm that your changes are visible in GitHub.\n",
        "4. Delete the codespace to avoid wasting your free quota.\n",
        "\n",
        "The auto-grading process usually completes within a few minutes of pushing to GitHub, but occasionally can take several minutes to an hour.\n",
        "If you submit your homework early enough, you may review the auto-grading results and fix any mistakes before the deadline.\n"
      ]
    },
    {
      "cell_type": "markdown",
      "metadata": {
        "id": "DqktefzNLKSa"
      },
      "source": [
        "## Problems"
      ]
    },
    {
      "cell_type": "markdown",
      "metadata": {
        "id": "Bpes88-pI4VD"
      },
      "source": [
        "### Problem 1\n",
        "\n",
        "Set `p1` to the name of your favorite animal.\n"
      ]
    },
    {
      "cell_type": "code",
      "execution_count": 3,
      "metadata": {
        "id": "VBT9VpsGLjCm"
      },
      "outputs": [],
      "source": [
        "# YOUR CHANGES HERE\n",
        "\n",
        "p1 = 'dolphin'"
      ]
    },
    {
      "cell_type": "code",
      "execution_count": 4,
      "metadata": {
        "id": "le4QiP_mMNsS",
        "colab": {
          "base_uri": "https://localhost:8080/",
          "height": 35
        },
        "outputId": "d66e95c3-59e8-40a4-c58b-9d44b91e5bc7"
      },
      "outputs": [
        {
          "output_type": "execute_result",
          "data": {
            "text/plain": [
              "'dolphin'"
            ],
            "application/vnd.google.colaboratory.intrinsic+json": {
              "type": "string"
            }
          },
          "metadata": {},
          "execution_count": 4
        }
      ],
      "source": [
        "p1"
      ]
    },
    {
      "cell_type": "markdown",
      "metadata": {
        "id": "83qzQmAxJBHx"
      },
      "source": [
        "### Problem 2\n",
        "\n",
        "Set `p2` to the 3rd element of `q2`."
      ]
    },
    {
      "cell_type": "code",
      "execution_count": 9,
      "metadata": {
        "id": "5Ui_1NK6Lbsf"
      },
      "outputs": [],
      "source": [
        "# DO NOT CHANGE\n",
        "\n",
        "q2 = [2, 3, 5, 7, 11, 13, 17, 19, 23]"
      ]
    },
    {
      "cell_type": "code",
      "execution_count": 11,
      "metadata": {
        "id": "NYZZPanuLfLt"
      },
      "outputs": [],
      "source": [
        "# YOUR CHANGES HERE\n",
        "\n",
        "p2 = q2[2]"
      ]
    },
    {
      "cell_type": "code",
      "execution_count": 12,
      "metadata": {
        "id": "qA7S3vqHMOg5",
        "colab": {
          "base_uri": "https://localhost:8080/"
        },
        "outputId": "01528160-059e-489d-9592-448efc816681"
      },
      "outputs": [
        {
          "output_type": "execute_result",
          "data": {
            "text/plain": [
              "5"
            ]
          },
          "metadata": {},
          "execution_count": 12
        }
      ],
      "source": [
        "p2"
      ]
    },
    {
      "cell_type": "markdown",
      "metadata": {
        "id": "9oDdedHWJBCD"
      },
      "source": [
        "### Problem 3\n",
        "\n",
        "Set `p3` to the length of `q3`."
      ]
    },
    {
      "cell_type": "code",
      "execution_count": 13,
      "metadata": {
        "id": "_p_8E1EILsrw"
      },
      "outputs": [],
      "source": [
        "# DO NOT CHANGE\n",
        "\n",
        "q3 = [iter for i in range(1000) if i % 5 == 0 and i % 4 == 0]"
      ]
    },
    {
      "cell_type": "code",
      "execution_count": 15,
      "metadata": {
        "id": "Pl5pBT5OL1xl"
      },
      "outputs": [],
      "source": [
        "# YOUR CHANGES HERE\n",
        "\n",
        "p3 = len(q3)"
      ]
    },
    {
      "cell_type": "code",
      "execution_count": 16,
      "metadata": {
        "id": "KrUCeN0BMPO9",
        "colab": {
          "base_uri": "https://localhost:8080/"
        },
        "outputId": "7c711871-7b7e-42bc-8f01-ee94f0433d18"
      },
      "outputs": [
        {
          "output_type": "execute_result",
          "data": {
            "text/plain": [
              "50"
            ]
          },
          "metadata": {},
          "execution_count": 16
        }
      ],
      "source": [
        "p3"
      ]
    },
    {
      "cell_type": "markdown",
      "metadata": {
        "id": "AA0nlfIzJA7-"
      },
      "source": [
        "### Problem 4\n",
        "\n",
        "Set `p4` to the last element of `q4`."
      ]
    },
    {
      "cell_type": "code",
      "execution_count": 17,
      "metadata": {
        "id": "zAzSWnGTL8Rv"
      },
      "outputs": [],
      "source": [
        "# DO NOT CHANGE\n",
        "\n",
        "q4 = [i for i in range(1000) if i % 5 != 0 and i % 3 != 0 and i % 2 != 0]"
      ]
    },
    {
      "cell_type": "code",
      "execution_count": 18,
      "metadata": {
        "id": "o9hlg5JxMFcc"
      },
      "outputs": [],
      "source": [
        "# YOUR CHANGES HERE\n",
        "\n",
        "p4 = q4[-1]"
      ]
    },
    {
      "cell_type": "code",
      "execution_count": 19,
      "metadata": {
        "id": "SM3eGgAGMQAy",
        "colab": {
          "base_uri": "https://localhost:8080/"
        },
        "outputId": "da540342-82f4-40aa-c613-b0a4438888f8"
      },
      "outputs": [
        {
          "output_type": "execute_result",
          "data": {
            "text/plain": [
              "997"
            ]
          },
          "metadata": {},
          "execution_count": 19
        }
      ],
      "source": [
        "p4"
      ]
    },
    {
      "cell_type": "markdown",
      "metadata": {
        "id": "-gH3CZv7JA16"
      },
      "source": [
        "### Problem 5\n",
        "\n",
        "Sort `p5` in reverse order.\n"
      ]
    },
    {
      "cell_type": "code",
      "execution_count": 20,
      "metadata": {
        "id": "MTFfUltTMLEl"
      },
      "outputs": [],
      "source": [
        "# DO NOT CHANGE\n",
        "\n",
        "p5 = [7, 1, 3, 6, 8, 123]"
      ]
    },
    {
      "cell_type": "markdown",
      "metadata": {
        "id": "LlVTl91dMO_5"
      },
      "source": [
        "Hint: check the documentation for sort."
      ]
    },
    {
      "cell_type": "code",
      "execution_count": 21,
      "metadata": {
        "id": "Zk9rnlRBMQaE"
      },
      "outputs": [],
      "source": [
        "# YOUR CHANGES HERE\n",
        "\n",
        "p5.sort(reverse=True)"
      ]
    },
    {
      "cell_type": "code",
      "execution_count": 22,
      "metadata": {
        "id": "srrF7ISYMQ3U",
        "colab": {
          "base_uri": "https://localhost:8080/"
        },
        "outputId": "80e578c7-78d2-4599-c87e-bd747dd75472"
      },
      "outputs": [
        {
          "output_type": "execute_result",
          "data": {
            "text/plain": [
              "[123, 8, 7, 6, 3, 1]"
            ]
          },
          "metadata": {},
          "execution_count": 22
        }
      ],
      "source": [
        "p5"
      ]
    },
    {
      "cell_type": "markdown",
      "metadata": {
        "id": "Yg-BAxCwJAwO"
      },
      "source": [
        "### Problem 6\n",
        "\n",
        "Set `p6` to be the last 3 elements of `q6`."
      ]
    },
    {
      "cell_type": "code",
      "execution_count": 23,
      "metadata": {
        "id": "bWGZ0daVMiKy"
      },
      "outputs": [],
      "source": [
        "# DO NOT CHANGE\n",
        "\n",
        "q6 = [\"a\", 3, \"bc\", 4, \"def\", 5, \"ghij\", 6]"
      ]
    },
    {
      "cell_type": "code",
      "execution_count": 24,
      "metadata": {
        "id": "OKEnz7J-MpoX"
      },
      "outputs": [],
      "source": [
        "# YOUR CHANGES HERE\n",
        "\n",
        "p6 = q6[-3:]"
      ]
    },
    {
      "cell_type": "code",
      "execution_count": 25,
      "metadata": {
        "id": "7nKI00LWMRz4",
        "colab": {
          "base_uri": "https://localhost:8080/"
        },
        "outputId": "60dcf6ee-2bce-4bda-cfc3-c5c5313bca2e"
      },
      "outputs": [
        {
          "output_type": "execute_result",
          "data": {
            "text/plain": [
              "[5, 'ghij', 6]"
            ]
          },
          "metadata": {},
          "execution_count": 25
        }
      ],
      "source": [
        "p6"
      ]
    },
    {
      "cell_type": "markdown",
      "metadata": {
        "id": "eeZzLUvlJAp1"
      },
      "source": [
        "### Problem 7\n",
        "\n",
        "Set `p7` to be the number of distinct items in `q7`."
      ]
    },
    {
      "cell_type": "code",
      "execution_count": 26,
      "metadata": {
        "id": "GcLSUzAGMuXg"
      },
      "outputs": [],
      "source": [
        "# DO NOT CHANGE\n",
        "\n",
        "q7 = []\n",
        "for p in [2, 3, 5, 7]:\n",
        "    for i in range(10):\n",
        "        q7.append(p * i)"
      ]
    },
    {
      "cell_type": "code",
      "execution_count": 27,
      "metadata": {
        "id": "ZCPJVNnMM34o"
      },
      "outputs": [],
      "source": [
        "# YOUR CHANGES HERE\n",
        "\n",
        "p7 = len(set(q7))"
      ]
    },
    {
      "cell_type": "code",
      "execution_count": 28,
      "metadata": {
        "id": "j3D_mbJzMTLn",
        "colab": {
          "base_uri": "https://localhost:8080/"
        },
        "outputId": "cf35fc09-d228-4334-92da-abd1c36fc063"
      },
      "outputs": [
        {
          "output_type": "execute_result",
          "data": {
            "text/plain": [
              "29"
            ]
          },
          "metadata": {},
          "execution_count": 28
        }
      ],
      "source": [
        "p7"
      ]
    },
    {
      "cell_type": "markdown",
      "metadata": {
        "id": "Hph9pVqzJAkO"
      },
      "source": [
        "### Problem 8\n",
        "\n",
        "Set `p8` to be the number of items in `q8a` that are also in `q8b`."
      ]
    },
    {
      "cell_type": "code",
      "execution_count": 29,
      "metadata": {
        "id": "nEXRXKwJNBv6"
      },
      "outputs": [],
      "source": [
        "# DO NOT CHANGE\n",
        "\n",
        "q8a = [1, 2, 3, 6, 98, 23, 24, 25, 26]"
      ]
    },
    {
      "cell_type": "code",
      "execution_count": 30,
      "metadata": {
        "id": "SXZhJ4hKNFyY"
      },
      "outputs": [],
      "source": [
        "# DO NOT CHANGE\n",
        "\n",
        "q8b = [26, 25, 24, 22, 5, 5, 5, 5, 5, 5]"
      ]
    },
    {
      "cell_type": "code",
      "execution_count": 31,
      "metadata": {
        "id": "bKzt-l6RNLfI"
      },
      "outputs": [],
      "source": [
        "# YOUR CHANGES HERE\n",
        "\n",
        "p8 = len(set(q8a) & set(q8b))"
      ]
    },
    {
      "cell_type": "code",
      "execution_count": 32,
      "metadata": {
        "id": "fkeQtRu_MUdC",
        "colab": {
          "base_uri": "https://localhost:8080/"
        },
        "outputId": "df1079f1-8623-424d-d46b-6172c03a1583"
      },
      "outputs": [
        {
          "output_type": "execute_result",
          "data": {
            "text/plain": [
              "3"
            ]
          },
          "metadata": {},
          "execution_count": 32
        }
      ],
      "source": [
        "p8"
      ]
    },
    {
      "cell_type": "markdown",
      "metadata": {
        "id": "_jIWEmiVJAe3"
      },
      "source": [
        "### Problem 9\n",
        "\n",
        "Create a new dictionary `p9` from the dataset `q9` where each key represents a unique color and maps to a list of all dictionaries containing that color as their color key."
      ]
    },
    {
      "cell_type": "code",
      "execution_count": 38,
      "metadata": {
        "id": "ycA8XTCOpuUj"
      },
      "outputs": [],
      "source": [
        "# DO NOT CHANGE\n",
        "\n",
        "q9 = [{\"color\": \"red\", \"score\": 0.13},\n",
        "      {\"color\": \"blue\", \"score\": 1.00},\n",
        "      {\"color\": \"green\", \"score\": 0.64},\n",
        "      {\"color\": \"red\", \"score\": 0.98},\n",
        "      {\"color\": \"blue\", \"score\": 0.52},\n",
        "      {\"color\": \"violet\", \"score\": 0.25}]"
      ]
    },
    {
      "cell_type": "code",
      "execution_count": 40,
      "metadata": {
        "id": "h7F82RDKpu7l",
        "colab": {
          "base_uri": "https://localhost:8080/",
          "height": 176
        },
        "outputId": "5a5cff01-63a8-473c-ffb8-26bc4b1d7326"
      },
      "outputs": [
        {
          "output_type": "error",
          "ename": "NameError",
          "evalue": "name 'p9' is not defined",
          "traceback": [
            "\u001b[0;31m---------------------------------------------------------------------------\u001b[0m",
            "\u001b[0;31mNameError\u001b[0m                                 Traceback (most recent call last)",
            "\u001b[0;32m/tmp/ipython-input-2500787444.py\u001b[0m in \u001b[0;36m<cell line: 0>\u001b[0;34m()\u001b[0m\n\u001b[1;32m      1\u001b[0m \u001b[0;31m# YOUR CHANGES HERE\u001b[0m\u001b[0;34m\u001b[0m\u001b[0;34m\u001b[0m\u001b[0m\n\u001b[1;32m      2\u001b[0m \u001b[0;34m\u001b[0m\u001b[0m\n\u001b[0;32m----> 3\u001b[0;31m \u001b[0mp9\u001b[0m\u001b[0;34m=\u001b[0m \u001b[0mdict\u001b[0m\u001b[0;34m(\u001b[0m\u001b[0mp9\u001b[0m\u001b[0;34m)\u001b[0m\u001b[0;34m\u001b[0m\u001b[0;34m\u001b[0m\u001b[0m\n\u001b[0m",
            "\u001b[0;31mNameError\u001b[0m: name 'p9' is not defined"
          ]
        }
      ],
      "source": [
        "# YOUR CHANGES HERE\n",
        "\n",
        "p9= dict(p9)"
      ]
    },
    {
      "cell_type": "code",
      "execution_count": null,
      "metadata": {
        "id": "v-KXyX4KMpO5"
      },
      "outputs": [],
      "source": [
        "p9"
      ]
    },
    {
      "cell_type": "markdown",
      "metadata": {
        "id": "E9uPJNt-JAZA"
      },
      "source": [
        "### Problem 10\n",
        "\n",
        "Examine the function `add_data_10` that organizes data into the dictionary `q10` and identify the key used to categorize the data within it."
      ]
    },
    {
      "cell_type": "code",
      "execution_count": 41,
      "metadata": {
        "id": "3W1_fPOIqpo-"
      },
      "outputs": [],
      "source": [
        "# DO NOT CHANGE\n",
        "\n",
        "q10 = {}\n",
        "\n",
        "def add_data_10(row):\n",
        "    if row['score'] < 0:\n",
        "        return\n",
        "\n",
        "    q10.setdefault(row['zipcode'], [])\n",
        "    q10[row['zipcode']].append(row)\n"
      ]
    },
    {
      "cell_type": "code",
      "execution_count": 42,
      "metadata": {
        "id": "0L8sGkWqtdIh",
        "colab": {
          "base_uri": "https://localhost:8080/",
          "height": 193
        },
        "outputId": "27e71e6a-16bb-4137-c743-d2164e42598f"
      },
      "outputs": [
        {
          "output_type": "error",
          "ename": "NameError",
          "evalue": "name 'row' is not defined",
          "traceback": [
            "\u001b[0;31m---------------------------------------------------------------------------\u001b[0m",
            "\u001b[0;31mNameError\u001b[0m                                 Traceback (most recent call last)",
            "\u001b[0;32m/tmp/ipython-input-2607672474.py\u001b[0m in \u001b[0;36m<cell line: 0>\u001b[0;34m()\u001b[0m\n\u001b[1;32m      1\u001b[0m \u001b[0;31m# YOUR CHANGES HERE\u001b[0m\u001b[0;34m\u001b[0m\u001b[0;34m\u001b[0m\u001b[0m\n\u001b[1;32m      2\u001b[0m \u001b[0;34m\u001b[0m\u001b[0m\n\u001b[0;32m----> 3\u001b[0;31m \u001b[0mp10\u001b[0m \u001b[0;34m=\u001b[0m \u001b[0mq10\u001b[0m\u001b[0;34m.\u001b[0m\u001b[0msetdefault\u001b[0m\u001b[0;34m(\u001b[0m\u001b[0mrow\u001b[0m\u001b[0;34m[\u001b[0m\u001b[0;34m'zipcode'\u001b[0m\u001b[0;34m]\u001b[0m\u001b[0;34m,\u001b[0m \u001b[0;34m[\u001b[0m\u001b[0;34m]\u001b[0m\u001b[0;34m)\u001b[0m\u001b[0;34m\u001b[0m\u001b[0;34m\u001b[0m\u001b[0m\n\u001b[0m\u001b[1;32m      4\u001b[0m \u001b[0mq10\u001b[0m\u001b[0;34m[\u001b[0m\u001b[0mrow\u001b[0m\u001b[0;34m[\u001b[0m\u001b[0;34m'zipcode'\u001b[0m\u001b[0;34m]\u001b[0m\u001b[0;34m]\u001b[0m\u001b[0;34m.\u001b[0m\u001b[0mappend\u001b[0m\u001b[0;34m(\u001b[0m\u001b[0mrow\u001b[0m\u001b[0;34m)\u001b[0m\u001b[0;34m\u001b[0m\u001b[0;34m\u001b[0m\u001b[0m\n",
            "\u001b[0;31mNameError\u001b[0m: name 'row' is not defined"
          ]
        }
      ],
      "source": [
        "# YOUR CHANGES HERE\n",
        "\n",
        "p10 = q10.setdefault(row['zipcode'], [])\n",
        "q10[row['zipcode']].append(row)\n"
      ]
    },
    {
      "cell_type": "code",
      "execution_count": null,
      "metadata": {
        "id": "LFYaLPdUMqIi"
      },
      "outputs": [],
      "source": [
        "p10"
      ]
    },
    {
      "cell_type": "markdown",
      "metadata": {
        "id": "V3LwVKAEJANv"
      },
      "source": [
        "### Problem 11\n",
        "\n",
        "Write a function p11 taking one input $x$ and returning $x^2$."
      ]
    },
    {
      "cell_type": "code",
      "execution_count": 44,
      "metadata": {
        "id": "iX7t6vlhNbEQ"
      },
      "outputs": [],
      "source": [
        "# YOUR CHANGES HERE\n",
        "\n",
        "def p11(x):\n",
        "    return x ** 2"
      ]
    },
    {
      "cell_type": "code",
      "execution_count": 45,
      "metadata": {
        "id": "2gVFJKeyMrIu",
        "colab": {
          "base_uri": "https://localhost:8080/"
        },
        "outputId": "d89d9f1d-561f-4e13-8042-7e377b9d511e"
      },
      "outputs": [
        {
          "output_type": "execute_result",
          "data": {
            "text/plain": [
              "0"
            ]
          },
          "metadata": {},
          "execution_count": 45
        }
      ],
      "source": [
        "p11(0)"
      ]
    },
    {
      "cell_type": "code",
      "execution_count": 46,
      "metadata": {
        "id": "HVntsVfrMsC7",
        "colab": {
          "base_uri": "https://localhost:8080/"
        },
        "outputId": "f15c929a-8db9-4972-c404-763a18d52c92"
      },
      "outputs": [
        {
          "output_type": "execute_result",
          "data": {
            "text/plain": [
              "1"
            ]
          },
          "metadata": {},
          "execution_count": 46
        }
      ],
      "source": [
        "p11(1)"
      ]
    },
    {
      "cell_type": "code",
      "execution_count": 47,
      "metadata": {
        "id": "lTaPADFLMtCl",
        "colab": {
          "base_uri": "https://localhost:8080/"
        },
        "outputId": "9976ab86-e53b-4ea7-caa9-a73860f4c97e"
      },
      "outputs": [
        {
          "output_type": "execute_result",
          "data": {
            "text/plain": [
              "4"
            ]
          },
          "metadata": {},
          "execution_count": 47
        }
      ],
      "source": [
        "p11(2)"
      ]
    },
    {
      "cell_type": "code",
      "execution_count": 48,
      "metadata": {
        "id": "LQ7ZmFb8MuNi",
        "colab": {
          "base_uri": "https://localhost:8080/"
        },
        "outputId": "f4e6a386-c669-4aa4-a108-eef187a3103b"
      },
      "outputs": [
        {
          "output_type": "execute_result",
          "data": {
            "text/plain": [
              "100"
            ]
          },
          "metadata": {},
          "execution_count": 48
        }
      ],
      "source": [
        "p11(10)"
      ]
    },
    {
      "cell_type": "code",
      "execution_count": 49,
      "metadata": {
        "id": "Ch75qm8OMvGN",
        "colab": {
          "base_uri": "https://localhost:8080/"
        },
        "outputId": "9b27ccfb-a3cc-4e30-da57-7b8e26e935ab"
      },
      "outputs": [
        {
          "output_type": "execute_result",
          "data": {
            "text/plain": [
              "123454321"
            ]
          },
          "metadata": {},
          "execution_count": 49
        }
      ],
      "source": [
        "p11(11111)"
      ]
    },
    {
      "cell_type": "markdown",
      "metadata": {
        "id": "SwsSCn-oK_Le"
      },
      "source": [
        "### Problem 12\n",
        "\n",
        "Write a function `p12` that returns \"even\" if the input is an even number, and \"odd\" if the input is an odd number. You may assume that the input is always an integer."
      ]
    },
    {
      "cell_type": "code",
      "execution_count": 53,
      "metadata": {
        "id": "qOU4mHoENlm_",
        "colab": {
          "base_uri": "https://localhost:8080/",
          "height": 106
        },
        "outputId": "c2c00218-3d63-4c88-8900-f3a6a0a5aa1a"
      },
      "outputs": [
        {
          "output_type": "error",
          "ename": "SyntaxError",
          "evalue": "expected ':' (ipython-input-1745113720.py, line 4)",
          "traceback": [
            "\u001b[0;36m  File \u001b[0;32m\"/tmp/ipython-input-1745113720.py\"\u001b[0;36m, line \u001b[0;32m4\u001b[0m\n\u001b[0;31m    if x % 2 == 0\u001b[0m\n\u001b[0m                 ^\u001b[0m\n\u001b[0;31mSyntaxError\u001b[0m\u001b[0;31m:\u001b[0m expected ':'\n"
          ]
        }
      ],
      "source": [
        "# YOUR CHANGES HERE\n",
        "\n",
        "def p12(x):\n",
        "   if x % 2 == 0"
      ]
    },
    {
      "cell_type": "code",
      "execution_count": null,
      "metadata": {
        "id": "h5ZazXH6MyKp"
      },
      "outputs": [],
      "source": [
        "p12(0)"
      ]
    },
    {
      "cell_type": "code",
      "execution_count": null,
      "metadata": {
        "id": "ok2P8pHJMy9y"
      },
      "outputs": [],
      "source": [
        "p12(1)"
      ]
    },
    {
      "cell_type": "code",
      "execution_count": null,
      "metadata": {
        "id": "pkyYvZibM0BJ"
      },
      "outputs": [],
      "source": [
        "p12(100)"
      ]
    },
    {
      "cell_type": "code",
      "execution_count": null,
      "metadata": {
        "id": "CMYAmXK_M1ij"
      },
      "outputs": [],
      "source": [
        "p12(999)"
      ]
    },
    {
      "cell_type": "markdown",
      "metadata": {
        "id": "0R7jYZplK9zL"
      },
      "source": [
        "### Problem 13\n",
        "\n",
        "The following code calculates prime numbers less than 100 and stores them in `p13`, but `p13` was not initialized correctly.\n",
        "Fix the initialization of `p13` with an appropriate data type."
      ]
    },
    {
      "cell_type": "code",
      "execution_count": 56,
      "metadata": {
        "id": "gj-3_asBjy-v"
      },
      "outputs": [],
      "source": [
        "# YOUR CHANGES HERE\n",
        "\n",
        "p13 = []"
      ]
    },
    {
      "cell_type": "code",
      "execution_count": 57,
      "metadata": {
        "id": "FHUZPLF5OLKt"
      },
      "outputs": [],
      "source": [
        "# DO NOT CHANGE\n",
        "\n",
        "for i in range(2, 100):\n",
        "    for p in p13:\n",
        "        if i % p == 0:\n",
        "            break\n",
        "    else:\n",
        "        p13.append(i)\n"
      ]
    },
    {
      "cell_type": "code",
      "execution_count": 58,
      "metadata": {
        "id": "dCZNsLm3M6ZR",
        "colab": {
          "base_uri": "https://localhost:8080/"
        },
        "outputId": "d670c0f8-5d39-4cd6-b6c7-3fc15690f594"
      },
      "outputs": [
        {
          "output_type": "execute_result",
          "data": {
            "text/plain": [
              "[2,\n",
              " 3,\n",
              " 5,\n",
              " 7,\n",
              " 11,\n",
              " 13,\n",
              " 17,\n",
              " 19,\n",
              " 23,\n",
              " 29,\n",
              " 31,\n",
              " 37,\n",
              " 41,\n",
              " 43,\n",
              " 47,\n",
              " 53,\n",
              " 59,\n",
              " 61,\n",
              " 67,\n",
              " 71,\n",
              " 73,\n",
              " 79,\n",
              " 83,\n",
              " 89,\n",
              " 97]"
            ]
          },
          "metadata": {},
          "execution_count": 58
        }
      ],
      "source": [
        "p13"
      ]
    },
    {
      "cell_type": "markdown",
      "metadata": {
        "id": "c4W3baDrK9lc"
      },
      "source": [
        "### Problem 14\n",
        "\n",
        "Write a function `p14` that takes a list of integers and returns a new list containing only those integers that are divisible by 14."
      ]
    },
    {
      "cell_type": "code",
      "execution_count": 59,
      "metadata": {
        "id": "u4AbsndXtp4C"
      },
      "outputs": [],
      "source": [
        "# YOUR CHANGES HERE\n",
        "\n",
        "def p14(ns):\n",
        "      return [n for n in ns if n % 14 == 0]"
      ]
    },
    {
      "cell_type": "code",
      "execution_count": 60,
      "metadata": {
        "id": "MPz3TM6WM9uB",
        "colab": {
          "base_uri": "https://localhost:8080/"
        },
        "outputId": "ed556c15-f53b-432a-a757-dce5e2c4131d"
      },
      "outputs": [
        {
          "output_type": "execute_result",
          "data": {
            "text/plain": [
              "[]"
            ]
          },
          "metadata": {},
          "execution_count": 60
        }
      ],
      "source": [
        "p14([])"
      ]
    },
    {
      "cell_type": "code",
      "execution_count": 61,
      "metadata": {
        "id": "MaAN_wmlM_gK",
        "colab": {
          "base_uri": "https://localhost:8080/"
        },
        "outputId": "6208c97c-219c-4e2f-9ee7-70f7989d42dd"
      },
      "outputs": [
        {
          "output_type": "execute_result",
          "data": {
            "text/plain": [
              "[0, 14]"
            ]
          },
          "metadata": {},
          "execution_count": 61
        }
      ],
      "source": [
        "p14([0, 1, 2, 3, 4, 5, 6, 7, 8, 9, 10, 11, 12, 13, 14, 15, 16, 17, 18, 19])"
      ]
    },
    {
      "cell_type": "markdown",
      "metadata": {
        "id": "n3vx4JLXK9L_"
      },
      "source": [
        "### Problem 15\n",
        "\n",
        "Write a function `p15` that takes in a dictionary as input, and returns `True` if \"x\" is in that dictionary and the value is 15, and `False` otherwise."
      ]
    },
    {
      "cell_type": "code",
      "execution_count": 66,
      "metadata": {
        "id": "-Tcp57jgtws1"
      },
      "outputs": [],
      "source": [
        "# YOUR CHANGES HERE\n",
        "\n",
        "def p15(d):\n",
        "    return d.get(\"x\") == 15"
      ]
    },
    {
      "cell_type": "code",
      "execution_count": 67,
      "metadata": {
        "id": "Iya7nbwrNIQr",
        "colab": {
          "base_uri": "https://localhost:8080/"
        },
        "outputId": "7dba8ec1-4245-45e6-c519-528d9accc7fa"
      },
      "outputs": [
        {
          "output_type": "execute_result",
          "data": {
            "text/plain": [
              "False"
            ]
          },
          "metadata": {},
          "execution_count": 67
        }
      ],
      "source": [
        "p15({})"
      ]
    },
    {
      "cell_type": "code",
      "execution_count": 68,
      "metadata": {
        "id": "o665-5VzNJgu",
        "colab": {
          "base_uri": "https://localhost:8080/"
        },
        "outputId": "1914d7f6-4937-4d55-c0f9-8ee8f7612964"
      },
      "outputs": [
        {
          "output_type": "execute_result",
          "data": {
            "text/plain": [
              "True"
            ]
          },
          "metadata": {},
          "execution_count": 68
        }
      ],
      "source": [
        "p15({\"x\": 15})"
      ]
    },
    {
      "cell_type": "code",
      "execution_count": 69,
      "metadata": {
        "id": "86KCzgsPNLul",
        "colab": {
          "base_uri": "https://localhost:8080/"
        },
        "outputId": "f5d6b13c-ccd1-45a3-e3cf-7000858596c5"
      },
      "outputs": [
        {
          "output_type": "execute_result",
          "data": {
            "text/plain": [
              "False"
            ]
          },
          "metadata": {},
          "execution_count": 69
        }
      ],
      "source": [
        "p15({\"x\": 16})"
      ]
    },
    {
      "cell_type": "code",
      "execution_count": 70,
      "metadata": {
        "id": "M7Mn42mxNOB5",
        "colab": {
          "base_uri": "https://localhost:8080/"
        },
        "outputId": "e00fe995-833f-4318-d9b5-28211126708f"
      },
      "outputs": [
        {
          "output_type": "execute_result",
          "data": {
            "text/plain": [
              "False"
            ]
          },
          "metadata": {},
          "execution_count": 70
        }
      ],
      "source": [
        "p15({\"y\": 15})"
      ]
    },
    {
      "cell_type": "code",
      "execution_count": 71,
      "metadata": {
        "id": "bB16NsNVNPpU",
        "colab": {
          "base_uri": "https://localhost:8080/"
        },
        "outputId": "27d0e4e3-91fd-4424-ffc3-5bd5e95d5bf7"
      },
      "outputs": [
        {
          "output_type": "execute_result",
          "data": {
            "text/plain": [
              "True"
            ]
          },
          "metadata": {},
          "execution_count": 71
        }
      ],
      "source": [
        "p15({\"x\": 15, \"y\": 15})"
      ]
    },
    {
      "cell_type": "markdown",
      "metadata": {
        "id": "daebIBs4I-6z"
      },
      "source": [
        "### Problem 16\n",
        "\n",
        "Set `p16` to be $3.3^4$ (3.3 to the 4th power), rounded down to the nearest whole number.\n",
        "Make sure it is an int, not a float.\n"
      ]
    },
    {
      "cell_type": "code",
      "execution_count": 72,
      "metadata": {
        "id": "CSGcZS7MJGG5"
      },
      "outputs": [],
      "source": [
        "# YOUR CHANGES HERE\n",
        "\n",
        "p16 = int(3.3 ** 4 // 1)"
      ]
    },
    {
      "cell_type": "code",
      "execution_count": 73,
      "metadata": {
        "id": "012y9TXNNXxZ",
        "colab": {
          "base_uri": "https://localhost:8080/"
        },
        "outputId": "0fadd39e-055a-4e5f-8661-c6fad12aee87"
      },
      "outputs": [
        {
          "output_type": "execute_result",
          "data": {
            "text/plain": [
              "118"
            ]
          },
          "metadata": {},
          "execution_count": 73
        }
      ],
      "source": [
        "p16"
      ]
    },
    {
      "cell_type": "markdown",
      "metadata": {
        "id": "v3dQYwjHJMnC"
      },
      "source": [
        "### Problem 17\n",
        "\n",
        "Python has a built-in function `round` to round a number to a specified number of digits after the decimal point.\n"
      ]
    },
    {
      "cell_type": "code",
      "execution_count": 74,
      "metadata": {
        "id": "5QSuqhzSJQcL",
        "colab": {
          "base_uri": "https://localhost:8080/"
        },
        "outputId": "4d0f555f-a72f-4eab-fb30-496ff6b2a0dd"
      },
      "outputs": [
        {
          "output_type": "execute_result",
          "data": {
            "text/plain": [
              "1.23"
            ]
          },
          "metadata": {},
          "execution_count": 74
        }
      ],
      "source": [
        "round(1.2345, 2)"
      ]
    },
    {
      "cell_type": "markdown",
      "metadata": {
        "id": "EBNTsep1JQ6W"
      },
      "source": [
        "Set `p17` to the result of rounding 1.1 + 2.2 to 1 digit after the decimal point.\n"
      ]
    },
    {
      "cell_type": "code",
      "execution_count": 75,
      "metadata": {
        "id": "_X_MHSm9JVR9"
      },
      "outputs": [],
      "source": [
        "# YOUR CHANGES HERE\n",
        "\n",
        "p17 = round(1.1 + 2.2, 1)"
      ]
    },
    {
      "cell_type": "code",
      "execution_count": 76,
      "metadata": {
        "id": "c5AxDwk7NZTK",
        "colab": {
          "base_uri": "https://localhost:8080/"
        },
        "outputId": "f84891bd-2d80-490c-9bce-d4421824b20e"
      },
      "outputs": [
        {
          "output_type": "execute_result",
          "data": {
            "text/plain": [
              "3.3"
            ]
          },
          "metadata": {},
          "execution_count": 76
        }
      ],
      "source": [
        "p17"
      ]
    },
    {
      "cell_type": "markdown",
      "metadata": {
        "id": "5HnFcb4jJY7o"
      },
      "source": [
        "### Problem 18\n",
        "\n",
        "Python has a built-in function `max` which will return its greatest input."
      ]
    },
    {
      "cell_type": "code",
      "execution_count": 77,
      "metadata": {
        "id": "NKPsTKA9J8rq",
        "colab": {
          "base_uri": "https://localhost:8080/"
        },
        "outputId": "29d9db53-d605-4d3e-e953-5c0ddf57ab42"
      },
      "outputs": [
        {
          "output_type": "execute_result",
          "data": {
            "text/plain": [
              "5"
            ]
          },
          "metadata": {},
          "execution_count": 77
        }
      ],
      "source": [
        "max(1, 2, 3, 4, 5)"
      ]
    },
    {
      "cell_type": "markdown",
      "source": [],
      "metadata": {
        "id": "1cFdBxBSmLAg"
      }
    },
    {
      "cell_type": "markdown",
      "metadata": {
        "id": "To-mUZ4zJ9y1"
      },
      "source": [
        "Set `p18` to the maximum of $3^{25}$, $25^9$, and $1.1^{1000}$ using the built-in `max` function."
      ]
    },
    {
      "cell_type": "code",
      "execution_count": 79,
      "metadata": {
        "id": "DMk-N8_pKCaU"
      },
      "outputs": [],
      "source": [
        "# YOUR CHANGES HERE\n",
        "\n",
        "p18 = max(325, 259, 1.11000)\n"
      ]
    },
    {
      "cell_type": "code",
      "execution_count": 80,
      "metadata": {
        "id": "byXQWD47Nacj",
        "colab": {
          "base_uri": "https://localhost:8080/"
        },
        "outputId": "d67b0a8e-ed12-4908-f94b-f9f00e15187f"
      },
      "outputs": [
        {
          "output_type": "execute_result",
          "data": {
            "text/plain": [
              "325"
            ]
          },
          "metadata": {},
          "execution_count": 80
        }
      ],
      "source": [
        "p18"
      ]
    },
    {
      "cell_type": "markdown",
      "metadata": {
        "id": "HZZYI-APLDrx"
      },
      "source": [
        "### Problem 19\n",
        "\n",
        "Set `p19` to the set of tuples in `q19` where the first entry is the string \"red\" or the second entry is \"medium\"."
      ]
    },
    {
      "cell_type": "code",
      "execution_count": 81,
      "metadata": {
        "id": "RcsFeZwGt6Sr"
      },
      "outputs": [],
      "source": [
        "# DO NOT CHANGE\n",
        "\n",
        "q19 = [(\"red\", \"long\"),\n",
        "       (\"blue\", \"short\"),\n",
        "       (\"red\", \"medium\"),\n",
        "       (\"green\", \"tiny\"),\n",
        "       (\"blue\", \"medium\"),\n",
        "       (\"blue\", \"large\")]"
      ]
    },
    {
      "cell_type": "code",
      "execution_count": 83,
      "metadata": {
        "id": "kMtdLDZNt9w7"
      },
      "outputs": [],
      "source": [
        "# YOUR CHANGES HERE\n",
        "\n",
        "p19 = {t for t in q19 if t[0] == \"red\" or t[1] == \"medium\"}"
      ]
    },
    {
      "cell_type": "code",
      "execution_count": 84,
      "metadata": {
        "id": "vJM-6hEcNbtj",
        "colab": {
          "base_uri": "https://localhost:8080/"
        },
        "outputId": "cdfa7e8e-40d1-4ce4-df0c-24686adb3e00"
      },
      "outputs": [
        {
          "output_type": "execute_result",
          "data": {
            "text/plain": [
              "{('blue', 'medium'), ('red', 'long'), ('red', 'medium')}"
            ]
          },
          "metadata": {},
          "execution_count": 84
        }
      ],
      "source": [
        "p19"
      ]
    },
    {
      "cell_type": "markdown",
      "metadata": {
        "id": "i5r5TdcILE8R"
      },
      "source": [
        "### Problem 20\n",
        "\n",
        "Write a function `p20` that takes in a dictionary as input returns True if all the values match their corresponding keys. For example, if the input was `{\"hi\": \"hi\"}`, then it should return `True`."
      ]
    },
    {
      "cell_type": "code",
      "execution_count": 86,
      "metadata": {
        "id": "QFpWFVpQAN1U"
      },
      "outputs": [],
      "source": [
        "# YOUR CHANGES HERE\n",
        "\n",
        "def p20(d):\n",
        "    return all(k == v for k, v in d.items())"
      ]
    },
    {
      "cell_type": "code",
      "execution_count": 87,
      "metadata": {
        "id": "FzCHcYRvNc9C",
        "colab": {
          "base_uri": "https://localhost:8080/"
        },
        "outputId": "5877ada2-49b3-40d7-a78c-b8703e11032d"
      },
      "outputs": [
        {
          "output_type": "execute_result",
          "data": {
            "text/plain": [
              "True"
            ]
          },
          "metadata": {},
          "execution_count": 87
        }
      ],
      "source": [
        "p20({})"
      ]
    },
    {
      "cell_type": "code",
      "execution_count": 88,
      "metadata": {
        "id": "AjoWVEYWNd9V",
        "colab": {
          "base_uri": "https://localhost:8080/"
        },
        "outputId": "49b3f2ec-0c37-4709-df85-c66a80e74839"
      },
      "outputs": [
        {
          "output_type": "execute_result",
          "data": {
            "text/plain": [
              "True"
            ]
          },
          "metadata": {},
          "execution_count": 88
        }
      ],
      "source": [
        "p20({\"x\": \"x\"})"
      ]
    },
    {
      "cell_type": "code",
      "execution_count": 89,
      "metadata": {
        "id": "HaFwX6vLNftw",
        "colab": {
          "base_uri": "https://localhost:8080/"
        },
        "outputId": "a30baaab-e008-4fea-f565-88dd58b340c0"
      },
      "outputs": [
        {
          "output_type": "execute_result",
          "data": {
            "text/plain": [
              "True"
            ]
          },
          "metadata": {},
          "execution_count": 89
        }
      ],
      "source": [
        "p20({\"x\": \"x\", \"y\": \"y\"})"
      ]
    },
    {
      "cell_type": "code",
      "execution_count": 90,
      "metadata": {
        "id": "r25Ib6PzNipD",
        "colab": {
          "base_uri": "https://localhost:8080/"
        },
        "outputId": "664ef0ea-c33a-4d37-a5a2-45f2384cac80"
      },
      "outputs": [
        {
          "output_type": "execute_result",
          "data": {
            "text/plain": [
              "False"
            ]
          },
          "metadata": {},
          "execution_count": 90
        }
      ],
      "source": [
        "p20({\"x\": \"x\", \"y\": \"z\"})"
      ]
    }
  ],
  "metadata": {
    "colab": {
      "provenance": [],
      "include_colab_link": true
    },
    "kernelspec": {
      "display_name": "Python 3",
      "name": "python3"
    },
    "language_info": {
      "codemirror_mode": {
        "name": "ipython",
        "version": 3
      },
      "file_extension": ".py",
      "mimetype": "text/x-python",
      "name": "python",
      "nbconvert_exporter": "python",
      "pygments_lexer": "ipython3",
      "version": "3.9.6"
    }
  },
  "nbformat": 4,
  "nbformat_minor": 0
}